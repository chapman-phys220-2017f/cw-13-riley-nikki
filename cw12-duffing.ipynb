{
 "cells": [
  {
   "cell_type": "code",
   "execution_count": 0,
   "metadata": {
    "collapsed": false
   },
   "outputs": [
   ],
   "source": [
    "import numpy as np # Numeric python\n",
    "import matplotlib.pyplot as plt # Used to plot in python\n",
    "import sombrero as s #importing code\n",
    "import numba as nb #enables @nb.jit to be used to speed up code"
   ]
  },
  {
   "cell_type": "markdown",
   "metadata": {
    "collapsed": false
   },
   "source": [
    "# CW 12 : Well Potential Graph, Parametric Curve, and Poincare Section Scatterplot"
   ]
  },
  {
   "cell_type": "markdown",
   "metadata": {
    "collapsed": false
   },
   "source": [
    "Riley and Nikki\n",
    "12/06/17"
   ]
  },
  {
   "cell_type": "markdown",
   "metadata": {
    "collapsed": false
   },
   "source": [
    "#### Double Well Potential Graph"
   ]
  },
  {
   "cell_type": "code",
   "execution_count": 1,
   "metadata": {
    "collapsed": false
   },
   "outputs": [
    {
     "ename": "NameError",
     "evalue": "name 'np' is not defined",
     "output_type": "error",
     "traceback": [
      "\u001b[0;31m---------------------------------------------------------------------------\u001b[0m",
      "\u001b[0;31mNameError\u001b[0m                                 Traceback (most recent call last)",
      "\u001b[0;32m<ipython-input-1-8b540549e822>\u001b[0m in \u001b[0;36m<module>\u001b[0;34m()\u001b[0m\n\u001b[1;32m      1\u001b[0m \u001b[0;32mdef\u001b[0m \u001b[0msombrero_graph\u001b[0m\u001b[0;34m(\u001b[0m\u001b[0mx\u001b[0m\u001b[0;34m)\u001b[0m\u001b[0;34m:\u001b[0m\u001b[0;34m\u001b[0m\u001b[0m\n\u001b[1;32m      2\u001b[0m     \u001b[0;32mreturn\u001b[0m \u001b[0mx\u001b[0m\u001b[0;34m**\u001b[0m\u001b[0;36m4\u001b[0m\u001b[0;34m/\u001b[0m\u001b[0;36m4\u001b[0m \u001b[0;34m-\u001b[0m \u001b[0mx\u001b[0m\u001b[0;34m**\u001b[0m\u001b[0;36m2\u001b[0m\u001b[0;34m/\u001b[0m\u001b[0;36m2\u001b[0m\u001b[0;34m\u001b[0m\u001b[0m\n\u001b[0;32m----> 3\u001b[0;31m \u001b[0mt\u001b[0m \u001b[0;34m=\u001b[0m \u001b[0mnp\u001b[0m\u001b[0;34m.\u001b[0m\u001b[0mlinspace\u001b[0m\u001b[0;34m(\u001b[0m\u001b[0;34m-\u001b[0m\u001b[0;36m1.5\u001b[0m\u001b[0;34m,\u001b[0m\u001b[0;36m1.5\u001b[0m\u001b[0;34m,\u001b[0m\u001b[0;36m500\u001b[0m\u001b[0;34m)\u001b[0m\u001b[0;34m\u001b[0m\u001b[0m\n\u001b[0m\u001b[1;32m      4\u001b[0m \u001b[0mplt\u001b[0m\u001b[0;34m.\u001b[0m\u001b[0mxlabel\u001b[0m\u001b[0;34m(\u001b[0m\u001b[0;34m'x'\u001b[0m\u001b[0;34m,\u001b[0m \u001b[0mfontsize\u001b[0m \u001b[0;34m=\u001b[0m \u001b[0;36m16\u001b[0m\u001b[0;34m)\u001b[0m\u001b[0;34m\u001b[0m\u001b[0m\n\u001b[1;32m      5\u001b[0m \u001b[0mplt\u001b[0m\u001b[0;34m.\u001b[0m\u001b[0mylabel\u001b[0m\u001b[0;34m(\u001b[0m\u001b[0;34m'y'\u001b[0m\u001b[0;34m,\u001b[0m \u001b[0mfontsize\u001b[0m \u001b[0;34m=\u001b[0m \u001b[0;36m16\u001b[0m\u001b[0;34m)\u001b[0m\u001b[0;34m\u001b[0m\u001b[0m\n",
      "\u001b[0;31mNameError\u001b[0m: name 'np' is not defined"
     ]
    }
   ],
   "source": [
    "def sombrero_graph(x):\n",
    "    return x**4/4 - x**2/2\n",
    "t = np.linspace(-1.5,1.5,500)\n",
    "plt.xlabel('x', fontsize = 16)\n",
    "plt.ylabel('y', fontsize = 16)\n",
    "plt.title(\"Sombrero Double Well Potential Graph\")\n",
    "plt.plot(t,sombrero_graph(t),linestyle= '-', color='blue')\n",
    "plt.show()"
   ]
  },
  {
   "cell_type": "markdown",
   "metadata": {
    "collapsed": false
   },
   "source": [
    "The above graph describes the sombrero double well potential shape.  This graph shape is defined mathematically as $V(x)=x^4/4 - x^2/2$. In these investigations, a ball is imagined to roll down the well and, depending on the drive force, drag force, time range, initial position and initial velocity of the ball, the ball will end up in different positions along the graph at different times with different velocities.  We are analyzing this system by varying some of the factors listed above, and then analyzing the time graph (called \"Oscillation Motion\" in this presentation), parametric curve, and poincare section (scatter-plot) that result.  Newton's second law, F=ma, applies to the double well potential system in that $ma = x - x^3 -((nu)(y))+Fcos(wt)$, and m = 1, nu = 0.25, and w = 1.  This equation is split up into two coupled first-order ordinary differential equations in this case, defined as dx and dy in the sombrero code."
   ]
  },
  {
   "cell_type": "markdown",
   "metadata": {
    "collapsed": false
   },
   "source": [
    "# Investigation 1"
   ]
  },
  {
   "cell_type": "markdown",
   "metadata": {
    "collapsed": false
   },
   "source": [
    "#### For F = 0.18, t E [0,2pi50], x(0) = -0.9, and y(0) = 0:"
   ]
  },
  {
   "cell_type": "code",
   "execution_count": 0,
   "metadata": {
    "collapsed": false
   },
   "outputs": [
   ],
   "source": [
    "a=0\n",
    "b=2*np.pi*50\n",
    "dt=0.001\n",
    "x_initial=-0.9\n",
    "y_initial=0.0\n",
    "nu=0.25\n",
    "F=0.18\n",
    "t,x,y=s.Newton(a,b,dt,x_initial, y_initial, nu, F)\n",
    "s.make_plots_oscillation(x,t)"
   ]
  },
  {
   "cell_type": "markdown",
   "metadata": {
    "collapsed": false
   },
   "source": [
    "This x vs t graph is the time graph, demonstrating the motion of the ball as it rolls in the sombrero double well potential system.  The x vs t graph demonstrates that the rolling ball ends up in the left well of the sombrero double well potential graph, since equilibrium (constant oscillation within the same x-value range) is reached at negative values.  The low t values for which the oscillation of the graph first becomes constant indicate that equilibrium was quickly reached."
   ]
  },
  {
   "cell_type": "code",
   "execution_count": 0,
   "metadata": {
    "collapsed": false
   },
   "outputs": [
   ],
   "source": [
    "a=0\n",
    "b=2*np.pi*50\n",
    "dt=0.001\n",
    "x_initial=-0.9\n",
    "y_initial=0.0\n",
    "nu=0.25\n",
    "F=0.18\n",
    "t,x,y=s.Newton(a,b,dt,x_initial, y_initial, nu, F)\n",
    "s.make_plots_parametric(x,y)"
   ]
  },
  {
   "cell_type": "markdown",
   "metadata": {
    "collapsed": false
   },
   "source": [
    "This x vs y (where y is velocity) graph is a parametric curve, demonstrating visually how the ball eventually reaches a fixed orbit as it rolls in the sombrero double well potential.  This is because the system quickly reaches equilibrium for negative x values."
   ]
  },
  {
   "cell_type": "code",
   "execution_count": 0,
   "metadata": {
    "collapsed": false
   },
   "outputs": [
   ],
   "source": [
    "s.scatter_plot(x,y,50)"
   ]
  },
  {
   "cell_type": "markdown",
   "metadata": {
    "collapsed": false
   },
   "source": [
    "This x vs y (where y is velocity) graph is a poincare section scatter plot, demonstrating the interception of periodic orbits happening in the system as it orbits around in space.  In a poincare plot, a subsection of collected data is sliced out so that the repeating oscillations that occur can be visually represented as simple points. This demonstrates the structure of the attractors in the system, which are the areas that the plotted points seem to approach for every period rotation.  In this example, the poincare section seems to have an attractor around (-0.82,0.04)."
   ]
  },
  {
   "cell_type": "markdown",
   "metadata": {
    "collapsed": false
   },
   "source": [
    "# Investigation 2"
   ]
  },
  {
   "cell_type": "markdown",
   "metadata": {
    "collapsed": false
   },
   "source": [
    "#### For F = 0.18, t E [0,2pi50], x(0) = 0.9, and y(0) = 0:"
   ]
  },
  {
   "cell_type": "code",
   "execution_count": 0,
   "metadata": {
    "collapsed": false
   },
   "outputs": [
   ],
   "source": [
    "a=0\n",
    "b=2*np.pi*50\n",
    "dt=0.001\n",
    "x_initial=0.9\n",
    "y_initial=0.0\n",
    "nu=0.25\n",
    "F=0.18\n",
    "t,x,y=s.Newton(a,b,dt,x_initial, y_initial, nu, F)\n",
    "s.make_plots_oscillation(x,t)"
   ]
  },
  {
   "cell_type": "markdown",
   "metadata": {
    "collapsed": false
   },
   "source": [
    "This x vs t graph is the time graph, demonstrating the motion of the ball as it rolls in the sombrero double well potential system.  The x vs t graph demonstrates that the rolling ball ends up in the right well of the sombrero double well potential graph, since equilibrium (constant oscillation within the same x-value range) is reached at positive values.  The low t values for which the oscillation of the graph first becomes constant indicate that equilibrium was quickly reached, similar to the x vs t graph for x(0)= -0.9.  "
   ]
  },
  {
   "cell_type": "code",
   "execution_count": 0,
   "metadata": {
    "collapsed": false
   },
   "outputs": [
   ],
   "source": [
    "a=0\n",
    "b=2*np.pi*50\n",
    "dt=0.001\n",
    "x_initial=0.9\n",
    "y_initial=0.0\n",
    "nu=0.25\n",
    "F=0.18\n",
    "t,x,y=s.Newton(a,b,dt,x_initial, y_initial, nu, F)\n",
    "s.make_plots_parametric(x,y)"
   ]
  },
  {
   "cell_type": "markdown",
   "metadata": {
    "collapsed": false
   },
   "source": [
    "This x vs y (where y is velocity) graph is a parametric curve, demonstrating visually how the ball eventually reaches a fixed orbit as it rolls in the sombrero double well potential.  This is because the system quickly reaches equilibrium, similar to the previous example with x(0)= -0.9, but for positive x values.  The major difference between this curve and the parametric curve for x(0)= -0.9 is that this curve appears to be like a flipped version of the other curve produced.  This makes sense, since the only value that changed between the two examples is the sign of the initial x value."
   ]
  },
  {
   "cell_type": "code",
   "execution_count": 0,
   "metadata": {
    "collapsed": false
   },
   "outputs": [
   ],
   "source": [
    "s.scatter_plot(x,y,50)"
   ]
  },
  {
   "cell_type": "markdown",
   "metadata": {
    "collapsed": false
   },
   "source": [
    "This x vs y (where y is velocity) graph is a poincare section scatter plot, demonstrating the interception of periodic orbits happening in the system as it orbits around in space.  In a poincare plot, a subsection of collected data is sliced out so that the repeating oscillations that occur can be visually represented as simple points. This demonstrates the structure of the attractors in the system, which are the areas that the plotted points seem to approach for every period rotation.  In this example, the poincare section seems to have an attractor around (1.18,0.07)."
   ]
  },
  {
   "cell_type": "markdown",
   "metadata": {
    "collapsed": false
   },
   "source": [
    "# Investigation 3"
   ]
  },
  {
   "cell_type": "markdown",
   "metadata": {
    "collapsed": false
   },
   "source": [
    "#### For F = 0.25, t E [0,2pi50], x(0) = 0.2 or 0.201, and y(0) = 0.1:"
   ]
  },
  {
   "cell_type": "markdown",
   "metadata": {
    "collapsed": false
   },
   "source": [
    "For x(0) = 0.2:"
   ]
  },
  {
   "cell_type": "code",
   "execution_count": 0,
   "metadata": {
    "collapsed": false
   },
   "outputs": [
   ],
   "source": [
    "a=0\n",
    "b=2*np.pi*50\n",
    "dt=0.001\n",
    "x_initial=0.2\n",
    "y_initial=0.1\n",
    "nu=0.25\n",
    "F=0.25\n",
    "t,x,y=s.Newton(a,b,dt,x_initial, y_initial, nu, F)\n",
    "s.make_plots_oscillation(x,t)"
   ]
  },
  {
   "cell_type": "markdown",
   "metadata": {
    "collapsed": false
   },
   "source": [
    "This x vs t graph is the time graph, demonstrating the motion of the ball as it rolls in the sombrero double well potential system.  The x vs t graph demonstrates that the rolling ball ends up in the right well of the sombrero double well potential graph, since equilibrium (constant oscillation within the same x-value range) is reached at positive values, similar to the graph for when x(0) = 0.9.  The t values for which the oscillation of the graph first becomes constant are higher values than the previous two examples, indicating that equilibrium took longer to reach.  Chaos is demonstrated for lower t values around 0 and 50."
   ]
  },
  {
   "cell_type": "code",
   "execution_count": 0,
   "metadata": {
    "collapsed": false
   },
   "outputs": [
   ],
   "source": [
    "a=0\n",
    "b=2*np.pi*50\n",
    "dt=0.001\n",
    "x_initial=0.2\n",
    "y_initial=0.1\n",
    "nu=0.25\n",
    "F=0.25\n",
    "t,x,y=s.Newton(a,b,dt,x_initial, y_initial, nu, F)\n",
    "s.make_plots_parametric(x,y)"
   ]
  },
  {
   "cell_type": "markdown",
   "metadata": {
    "collapsed": false
   },
   "source": [
    "This x vs y (where y is velocity) graph is a parametric curve, demonstrating visually how the ball eventually reaches a fixed orbit as it rolls in the sombrero double well potential.  This system does not quickly reach equilibrium, and because of this curves can be seen on both the negative and positive x value sides.  Before reaching equilibrium, the system experiences chaos, as demonstrated on the parametric curve.  However, the curves eventually reach equilibrium on the right side of the parametric curve, as can be seen by the thicker, repeating curves on the positive x value side of the graph."
   ]
  },
  {
   "cell_type": "code",
   "execution_count": 0,
   "metadata": {
    "collapsed": false
   },
   "outputs": [
   ],
   "source": [
    "s.scatter_plot(x,y,50)"
   ]
  },
  {
   "cell_type": "markdown",
   "metadata": {
    "collapsed": false
   },
   "source": [
    "This x vs y (where y is velocity) graph is a poincare section scatter plot, demonstrating the interception of periodic orbits happening in the system as it orbits around in space.  In a poincare plot, a subsection of collected data is sliced out so that the repeating oscillations that occur can be visually represented as simple points. This demonstrates the structure of the attractors in the system, which are the areas that the plotted points seem to approach for every period rotation.  In this example, the poincare section seems to have two attractors around (-0.6,0.2) and (1.3,0.2)."
   ]
  },
  {
   "cell_type": "markdown",
   "metadata": {
    "collapsed": false
   },
   "source": [
    "#### For x(0) = 0.201:"
   ]
  },
  {
   "cell_type": "code",
   "execution_count": 0,
   "metadata": {
    "collapsed": false
   },
   "outputs": [
   ],
   "source": [
    "a=0\n",
    "b=2*np.pi*50\n",
    "dt=0.001\n",
    "x_initial=0.201\n",
    "y_initial=0.1\n",
    "nu=0.25\n",
    "F=0.25\n",
    "t,x,y=s.Newton(a,b,dt,x_initial, y_initial, nu, F)\n",
    "s.make_plots_oscillation(x,t)"
   ]
  },
  {
   "cell_type": "markdown",
   "metadata": {
    "collapsed": false
   },
   "source": [
    "This x vs t graph is the time graph, demonstrating the motion of the ball as it rolls in the sombrero double well potential system.  The x vs t graph demonstrates that the rolling ball ends up in the left well of the sombrero double well potential graph, since equilibrium (constant oscillation within the same x-value range) is reached at negative values, similar to the graph for when x(0) = -0.9.  This is strange, since the initial x value was barely changed from x(0)=0.2 to x(0)=0.201.  Also, the t values for which the oscillation of the graph first becomes constant are higher values than the previous three examples, indicating that equilibrium took longer to reach, even compared to the previous graph with x(0)=0.2.  Chaos is demonstrated for t values around 0 and 125.  This graph shows that even the slightest change of initial values can greatly change the system's observed motion."
   ]
  },
  {
   "cell_type": "code",
   "execution_count": 0,
   "metadata": {
    "collapsed": false
   },
   "outputs": [
   ],
   "source": [
    "a=0\n",
    "b=2*np.pi*50\n",
    "dt=0.001\n",
    "x_initial=0.201\n",
    "y_initial=0.1\n",
    "nu=0.25\n",
    "F=0.25\n",
    "t,x,y=s.Newton(a,b,dt,x_initial, y_initial, nu, F)\n",
    "s.make_plots_parametric(x,y)"
   ]
  },
  {
   "cell_type": "markdown",
   "metadata": {
    "collapsed": false
   },
   "source": [
    "This x vs y (where y is velocity) graph is a parametric curve, demonstrating visually how the ball eventually reaches a fixed orbit as it rolls in the sombrero double well potential.  This system does not quickly reach equilibrium, and because of this curves can be seen on both the negative and positive x value sides, as in the previous example.  Before reaching equilibrium, the system experiences chaos, as demonstrated on the parametric curve.  However, the curves eventually reach equilibrium on the left side of the parametric curve, as can be seen by the thicker, repeating curves on the positive x value side of the graph."
   ]
  },
  {
   "cell_type": "code",
   "execution_count": 0,
   "metadata": {
    "collapsed": false
   },
   "outputs": [
   ],
   "source": [
    "s.scatter_plot(x,y,50)"
   ]
  },
  {
   "cell_type": "markdown",
   "metadata": {
    "collapsed": false
   },
   "source": [
    "This x vs y (where y is velocity) graph is a poincare section scatter plot, demonstrating the interception of periodic orbits happening in the system as it orbits around in space.  In a poincare plot, a subsection of collected data is sliced out so that the repeating oscillations that occur can be visually represented as simple points. This demonstrates the structure of the attractors in the system, which are the areas that the plotted points seem to approach for every period rotation.  In this example, the poincare section seems to have two attractors around (-0.7,0.1) and (0.75,0.4).  It is important to note that the attractor with the negative x value has more attracting ability, since more points on the plot are visualized in this location than for the attractor with the positive x value."
   ]
  },
  {
   "cell_type": "markdown",
   "metadata": {
    "collapsed": false
   },
   "source": [
    "# Investigation 4"
   ]
  },
  {
   "cell_type": "markdown",
   "metadata": {
    "collapsed": false
   },
   "source": [
    "#### For F = 0.4, t E [0,2pi50], x(0) = 0.0, and y(0) = 0:"
   ]
  },
  {
   "cell_type": "code",
   "execution_count": 0,
   "metadata": {
    "collapsed": false
   },
   "outputs": [
   ],
   "source": [
    "a=0\n",
    "b=2*np.pi*50\n",
    "dt=0.001\n",
    "x_initial=0.0\n",
    "y_initial=0.0\n",
    "nu=0.25\n",
    "F=0.4\n",
    "t,x,y=s.Newton(a,b,dt,x_initial, y_initial, nu, F)\n",
    "s.make_plots_oscillation(x,t)"
   ]
  },
  {
   "cell_type": "markdown",
   "metadata": {
    "collapsed": false
   },
   "source": [
    "This x vs t graph is the time graph, demonstrating the motion of the ball as it rolls in the sombrero double well potential system.  The x vs t graph demonstrates that the rolling ball never reaches equilibrium and that the motion of the ball can be described as chaotic the whole time. This is due to the fact that the F (driving force) value is much greater, preventing equilibrium from being reached."
   ]
  },
  {
   "cell_type": "code",
   "execution_count": 0,
   "metadata": {
    "collapsed": false
   },
   "outputs": [
   ],
   "source": [
    "a=0\n",
    "b=2*np.pi*50\n",
    "dt=0.001\n",
    "x_initial=0.0\n",
    "y_initial=0.0\n",
    "nu=0.25\n",
    "F=0.4\n",
    "t,x,y=s.Newton(a,b,dt,x_initial, y_initial, nu, F)\n",
    "s.make_plots_parametric(x,y)"
   ]
  },
  {
   "cell_type": "markdown",
   "metadata": {
    "collapsed": false
   },
   "source": [
    "This x vs y (where y is velocity) graph is a parametric curve, demonstrating visually how the ball never reaches equilibrium in the sombrero double well potential system.  Chaos is experienced costantly, as demonstrated by the curves that can be seen on both the negative and positive x value sides.  Again, this is because the driving force of the system is much greater in this example."
   ]
  },
  {
   "cell_type": "code",
   "execution_count": 0,
   "metadata": {
    "collapsed": false
   },
   "outputs": [
   ],
   "source": [
    "s.scatter_plot(x,y,50)"
   ]
  },
  {
   "cell_type": "markdown",
   "metadata": {
    "collapsed": false
   },
   "source": [
    "This x vs y (where y is velocity) graph is a poincare section scatter plot, demonstrating the interception of periodic orbits happening in the system as it orbits around in space.  In a poincare plot, a subsection of collected data is sliced out so that the repeating oscillations that occur can be visually represented as simple points. This demonstrates the structure of the attractors in the system, which are the areas that the plotted points seem to approach for every period rotation.  In this example, the poincare section seems to lack any strong attractors and instead begins to plot points in the shape of a spiral."
   ]
  },
  {
   "cell_type": "markdown",
   "metadata": {
    "collapsed": false
   },
   "source": [
    "#### For F = 0.4, t E [0,2pi50], x(0) = 0.5, and y(0) = .5:"
   ]
  },
  {
   "cell_type": "code",
   "execution_count": 0,
   "metadata": {
    "collapsed": false
   },
   "outputs": [
   ],
   "source": [
   ]
  },
  {
   "cell_type": "code",
   "execution_count": 0,
   "metadata": {
    "collapsed": false
   },
   "outputs": [
   ],
   "source": [
    "a=0\n",
    "b=2*np.pi*50\n",
    "dt=0.001\n",
    "x_initial=5\n",
    "y_initial=5\n",
    "nu=0.25\n",
    "F=0.4\n",
    "t,x,y=s.Newton(a,b,dt,x_initial, y_initial, nu, F)\n",
    "s.make_plots_oscillation(x,t)"
   ]
  },
  {
   "cell_type": "code",
   "execution_count": 0,
   "metadata": {
    "collapsed": false
   },
   "outputs": [
   ],
   "source": [
    "a=0\n",
    "b=2*np.pi*50\n",
    "dt=0.001\n",
    "x_initial=5\n",
    "y_initial=5\n",
    "nu=0.25\n",
    "F=0.4\n",
    "t,x,y=s.Newton(a,b,dt,x_initial, y_initial, nu, F)\n",
    "s.make_plots_parametric(x,y)"
   ]
  },
  {
   "cell_type": "code",
   "execution_count": 0,
   "metadata": {
    "collapsed": false
   },
   "outputs": [
   ],
   "source": [
    "s.scatter_plot(x,y,50)"
   ]
  },
  {
   "cell_type": "markdown",
   "metadata": {
    "collapsed": false
   },
   "source": [
    "When changing the initial condition values to higher values, such as going from x(0) = 0 and y(0) = 0 to x(0) = 5 and y(0) = 5, all three plots produced demonstrate higher order and less chaos."
   ]
  },
  {
   "cell_type": "markdown",
   "metadata": {
    "collapsed": false
   },
   "source": [
    "# Investigation 5"
   ]
  },
  {
   "cell_type": "markdown",
   "metadata": {
    "collapsed": false
   },
   "source": [
    "#### For F = 0.4, t E [0,2pi1000], x(0) = 0.0, and y(0) = 0:"
   ]
  },
  {
   "cell_type": "code",
   "execution_count": 0,
   "metadata": {
    "collapsed": false
   },
   "outputs": [
   ],
   "source": [
    "a=0\n",
    "b=2*np.pi*1000\n",
    "dt=0.001\n",
    "x_initial=0.0\n",
    "y_initial=0.0\n",
    "nu=0.25\n",
    "F=0.4\n",
    "t,x,y=s.Newton(a,b,dt,x_initial, y_initial, nu, F)\n",
    "s.scatter_plot(x,y,1000)"
   ]
  },
  {
   "cell_type": "markdown",
   "metadata": {
    "collapsed": false
   },
   "source": [
    "As visualized/predicted in the previous example for a lower n value of 50, the poincare section clearly demonstrates a curved/spiral formation for an n value of 1000.  This is cool, since the oscillation motion graph and parametric graph only represented chaos in the system.  I did not expect an ordered pattern to be observed.  The curved/spiral formation that is distinguishable above could not have been visualized without creating a poincare section."
   ]
  }
 ],
 "metadata": {
  "kernelspec": {
   "display_name": "Python 3 (Anaconda)",
   "language": "python",
   "name": "anaconda3"
  },
  "language_info": {
   "codemirror_mode": {
    "name": "ipython",
    "version": 3
   },
   "file_extension": ".py",
   "mimetype": "text/x-python",
   "name": "python",
   "nbconvert_exporter": "python",
   "pygments_lexer": "ipython3",
   "version": "3.5.4"
  }
 },
 "nbformat": 4,
 "nbformat_minor": 0
}