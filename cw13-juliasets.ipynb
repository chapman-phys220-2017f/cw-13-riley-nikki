{
 "cells": [
  {
   "cell_type": "code",
   "execution_count": 0,
   "metadata": {
    "collapsed": false
   },
   "outputs": [
   ],
   "source": [
    "import numpy as np #numeric python\n",
    "import numba as nb  #uncomment for numba\n",
    "import matplotlib.pyplot as plt #enables plots\n",
    "%matplotlib inline"
   ]
  },
  {
   "cell_type": "markdown",
   "metadata": {
    "collapsed": false
   },
   "source": [
    "# CW 13 - Understanding Jit with Numba"
   ]
  },
  {
   "cell_type": "markdown",
   "metadata": {
    "collapsed": false
   },
   "source": [
    "Riley Kendall and Nikki Schwartz\n",
    "12/15/17"
   ]
  },
  {
   "cell_type": "code",
   "execution_count": 0,
   "metadata": {
    "collapsed": false
   },
   "outputs": [
   ],
   "source": [
    "def julia(c):\n",
    "    #@np.vectorize  #comment for numba\n",
    "    @nb.vectorize #uncomment for numba\n",
    "    def j(z):\n",
    "        for n in range(100):\n",
    "            z = z**2 + c\n",
    "            if abs(z) > 2:\n",
    "                return n\n",
    "        return 0\n",
    "    return j\n",
    "\n",
    "j = julia(0.345 + 0.45j)\n",
    "\n",
    "@nb.jit  #uncomment for numba\n",
    "def cplane(min=-1.5, max=1.5, points=10000):\n",
    "    r = np.linspace(-1.5, 1.5, 10000)\n",
    "    x, y = np.meshgrid(r,r)\n",
    "    z = x + y * 1j\n",
    "    return z\n",
    "\n",
    "%time z = cplane()\n",
    "%time jset = j(z)\n",
    "\n",
    "plt.figure(1, (20,15))\n",
    "plt.imshow(jset, cmap=plt.cm.bone)\n",
    "plt.xticks([])\n",
    "plt.yticks([])\n",
    "plt.title(\"Julia Set : c = 0.345 + 0.45j\")\n",
    "plt.show()"
   ]
  },
  {
   "cell_type": "markdown",
   "metadata": {
    "collapsed": false
   },
   "source": [
    "#### Observing how @nb lines affect Julia code:"
   ]
  },
  {
   "cell_type": "markdown",
   "metadata": {
    "collapsed": false
   },
   "source": [
    "With the @nb lines uncommented, the code takes far less time to run."
   ]
  },
  {
   "cell_type": "markdown",
   "metadata": {
    "collapsed": false
   },
   "source": [
    "#### Observing how @nb lines affect CW12 code:"
   ]
  },
  {
   "cell_type": "markdown",
   "metadata": {
    "collapsed": false
   },
   "source": [
    "After copying my CW12 into this repository and modifying the code to use numba, I noticed that I was able to speed up the run time of the Runge-Kutta integration.  This is because numba jit takes complex code and converts it to machine instructions (language) that run a lot faster than compiled coding language does.  So, the program didn't have to waste time converting coding language into machine language, which makes the process far more efficient."
   ]
  }
 ],
 "metadata": {
  "kernelspec": {
   "display_name": "Python 3 (Anaconda)",
   "language": "python",
   "name": "anaconda3"
  },
  "language_info": {
   "codemirror_mode": {
    "name": "ipython",
    "version": 3
   },
   "file_extension": ".py",
   "mimetype": "text/x-python",
   "name": "python",
   "nbconvert_exporter": "python",
   "pygments_lexer": "ipython3",
   "version": "3.5.4"
  }
 },
 "nbformat": 4,
 "nbformat_minor": 0
}